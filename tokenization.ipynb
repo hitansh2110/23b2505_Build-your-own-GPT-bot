{
  "nbformat": 4,
  "nbformat_minor": 0,
  "metadata": {
    "colab": {
      "provenance": [],
      "authorship_tag": "ABX9TyNzLRizXXGdA0W6eI+uSo9D",
      "include_colab_link": true
    },
    "kernelspec": {
      "name": "python3",
      "display_name": "Python 3"
    },
    "language_info": {
      "name": "python"
    }
  },
  "cells": [
    {
      "cell_type": "markdown",
      "metadata": {
        "id": "view-in-github",
        "colab_type": "text"
      },
      "source": [
        "<a href=\"https://colab.research.google.com/github/hitansh2110/23b2505_Build-your-own-GPT-bot/blob/main/tokenization.ipynb\" target=\"_parent\"><img src=\"https://colab.research.google.com/assets/colab-badge.svg\" alt=\"Open In Colab\"/></a>"
      ]
    },
    {
      "cell_type": "code",
      "execution_count": null,
      "metadata": {
        "colab": {
          "base_uri": "https://localhost:8080/"
        },
        "id": "U7k8YutjH9fa",
        "outputId": "4222a4a3-690f-4921-9001-cfdbdb39a137"
      },
      "outputs": [
        {
          "output_type": "stream",
          "name": "stdout",
          "text": [
            "Requirement already satisfied: nltk in /usr/local/lib/python3.11/dist-packages (3.9.1)\n",
            "Requirement already satisfied: click in /usr/local/lib/python3.11/dist-packages (from nltk) (8.2.1)\n",
            "Requirement already satisfied: joblib in /usr/local/lib/python3.11/dist-packages (from nltk) (1.5.1)\n",
            "Requirement already satisfied: regex>=2021.8.3 in /usr/local/lib/python3.11/dist-packages (from nltk) (2024.11.6)\n",
            "Requirement already satisfied: tqdm in /usr/local/lib/python3.11/dist-packages (from nltk) (4.67.1)\n"
          ]
        }
      ],
      "source": [
        "!pip install nltk"
      ]
    },
    {
      "cell_type": "code",
      "source": [
        "import nltk\n",
        "nltk.download('punkt')\n",
        "nltk.download('punkt_tab')"
      ],
      "metadata": {
        "colab": {
          "base_uri": "https://localhost:8080/"
        },
        "id": "o8j6WT48JMiS",
        "outputId": "be817a21-7031-48c4-eecc-34a9f30aa097"
      },
      "execution_count": null,
      "outputs": [
        {
          "output_type": "stream",
          "name": "stderr",
          "text": [
            "[nltk_data] Downloading package punkt to /root/nltk_data...\n",
            "[nltk_data]   Package punkt is already up-to-date!\n",
            "[nltk_data] Downloading package punkt_tab to /root/nltk_data...\n",
            "[nltk_data]   Unzipping tokenizers/punkt_tab.zip.\n"
          ]
        },
        {
          "output_type": "execute_result",
          "data": {
            "text/plain": [
              "True"
            ]
          },
          "metadata": {},
          "execution_count": 10
        }
      ]
    },
    {
      "cell_type": "code",
      "source": [
        "from nltk.tokenize import sent_tokenize, word_tokenize"
      ],
      "metadata": {
        "id": "FcDKOh4vH_Vr"
      },
      "execution_count": null,
      "outputs": []
    },
    {
      "cell_type": "code",
      "source": [
        "corpus = \"\"\"Hello, I am Hitansh Makwana. Currently doing this project so that I can show something on my resume to get an intern.\n",
        "Or maybe to impress interviewee to grab an intern. I'm studing Metallurgy btw.\n",
        "\"\"\""
      ],
      "metadata": {
        "id": "Tdnv81K3ILQ1"
      },
      "execution_count": null,
      "outputs": []
    },
    {
      "cell_type": "code",
      "source": [
        "sentences = sent_tokenize(corpus)"
      ],
      "metadata": {
        "id": "YdQKRkPlIi0V"
      },
      "execution_count": null,
      "outputs": []
    },
    {
      "cell_type": "code",
      "source": [
        "for sentence in sentences:\n",
        "  print(sentence)"
      ],
      "metadata": {
        "colab": {
          "base_uri": "https://localhost:8080/"
        },
        "id": "6os_PYE9Ingb",
        "outputId": "5c29eab2-7ebc-458e-b000-8cee861a248f"
      },
      "execution_count": null,
      "outputs": [
        {
          "output_type": "stream",
          "name": "stdout",
          "text": [
            "Hello, I am Hitansh Makwana.\n",
            "Currently doing this project so that I can show something on my resume to get an intern.\n",
            "Or maybe to impress interviewee to grab an intern.\n",
            "I'm studing Metallurgy btw.\n"
          ]
        }
      ]
    },
    {
      "cell_type": "code",
      "source": [
        "word_tokenize(corpus)"
      ],
      "metadata": {
        "colab": {
          "base_uri": "https://localhost:8080/"
        },
        "id": "Xl4mGc4XJkBd",
        "outputId": "be402152-26de-4f69-b485-8059aa5dbd89"
      },
      "execution_count": null,
      "outputs": [
        {
          "output_type": "execute_result",
          "data": {
            "text/plain": [
              "['Hello',\n",
              " ',',\n",
              " 'I',\n",
              " 'am',\n",
              " 'Hitansh',\n",
              " 'Makwana',\n",
              " '.',\n",
              " 'Currently',\n",
              " 'doing',\n",
              " 'this',\n",
              " 'project',\n",
              " 'so',\n",
              " 'that',\n",
              " 'I',\n",
              " 'can',\n",
              " 'show',\n",
              " 'something',\n",
              " 'on',\n",
              " 'my',\n",
              " 'resume',\n",
              " 'to',\n",
              " 'get',\n",
              " 'an',\n",
              " 'intern',\n",
              " '.',\n",
              " 'Or',\n",
              " 'maybe',\n",
              " 'to',\n",
              " 'impress',\n",
              " 'interviewee',\n",
              " 'to',\n",
              " 'grab',\n",
              " 'an',\n",
              " 'intern',\n",
              " '.',\n",
              " 'I',\n",
              " \"'m\",\n",
              " 'studing',\n",
              " 'Metallurgy',\n",
              " 'btw',\n",
              " '.']"
            ]
          },
          "metadata": {},
          "execution_count": 17
        }
      ]
    },
    {
      "cell_type": "code",
      "source": [
        "for sentence in sentences:\n",
        "  print(word_tokenize(sentence))"
      ],
      "metadata": {
        "colab": {
          "base_uri": "https://localhost:8080/"
        },
        "id": "OKimogdlJqq3",
        "outputId": "60a8feec-1bed-4dde-84cd-8c2358d59c0e"
      },
      "execution_count": null,
      "outputs": [
        {
          "output_type": "stream",
          "name": "stdout",
          "text": [
            "['Hello', ',', 'I', 'am', 'Hitansh', 'Makwana', '.']\n",
            "['Currently', 'doing', 'this', 'project', 'so', 'that', 'I', 'can', 'show', 'something', 'on', 'my', 'resume', 'to', 'get', 'an', 'intern', '.']\n",
            "['Or', 'maybe', 'to', 'impress', 'interviewee', 'to', 'grab', 'an', 'intern', '.']\n",
            "['I', \"'m\", 'studing', 'Metallurgy', 'btw', '.']\n"
          ]
        }
      ]
    },
    {
      "cell_type": "code",
      "source": [
        "from nltk.tokenize import TreebankWordTokenizer"
      ],
      "metadata": {
        "id": "B7odrrv5Jv3N"
      },
      "execution_count": null,
      "outputs": []
    },
    {
      "cell_type": "code",
      "source": [
        "tokenizer = TreebankWordTokenizer()\n",
        "tokenizer.tokenize(corpus)"
      ],
      "metadata": {
        "colab": {
          "base_uri": "https://localhost:8080/"
        },
        "id": "KVSnw1OeJ4SF",
        "outputId": "cb879bd4-a981-4eef-8f78-98cff16f8491"
      },
      "execution_count": null,
      "outputs": [
        {
          "output_type": "execute_result",
          "data": {
            "text/plain": [
              "['Hello',\n",
              " ',',\n",
              " 'I',\n",
              " 'am',\n",
              " 'Hitansh',\n",
              " 'Makwana.',\n",
              " 'Currently',\n",
              " 'doing',\n",
              " 'this',\n",
              " 'project',\n",
              " 'so',\n",
              " 'that',\n",
              " 'I',\n",
              " 'can',\n",
              " 'show',\n",
              " 'something',\n",
              " 'on',\n",
              " 'my',\n",
              " 'resume',\n",
              " 'to',\n",
              " 'get',\n",
              " 'an',\n",
              " 'intern.',\n",
              " 'Or',\n",
              " 'maybe',\n",
              " 'to',\n",
              " 'impress',\n",
              " 'interviewee',\n",
              " 'to',\n",
              " 'grab',\n",
              " 'an',\n",
              " 'intern.',\n",
              " 'I',\n",
              " \"'m\",\n",
              " 'studing',\n",
              " 'Metallurgy',\n",
              " 'btw',\n",
              " '.']"
            ]
          },
          "metadata": {},
          "execution_count": 21
        }
      ]
    },
    {
      "cell_type": "code",
      "source": [],
      "metadata": {
        "id": "vU2tuRVKJ6g-"
      },
      "execution_count": null,
      "outputs": []
    }
  ]
}